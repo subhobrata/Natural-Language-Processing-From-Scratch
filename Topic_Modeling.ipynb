{
  "nbformat": 4,
  "nbformat_minor": 0,
  "metadata": {
    "colab": {
      "name": "Topic Modeling.ipynb",
      "version": "0.3.2",
      "provenance": [],
      "include_colab_link": true
    },
    "kernelspec": {
      "name": "python3",
      "display_name": "Python 3"
    }
  },
  "cells": [
    {
      "cell_type": "markdown",
      "metadata": {
        "id": "view-in-github",
        "colab_type": "text"
      },
      "source": [
        "<a href=\"https://colab.research.google.com/github/subhobrata/Natural-Language-Processing-From-Scratch/blob/master/Topic_Modeling.ipynb\" target=\"_parent\"><img src=\"https://colab.research.google.com/assets/colab-badge.svg\" alt=\"Open In Colab\"/></a>"
      ]
    },
    {
      "metadata": {
        "id": "DhbEyKdqHEQp",
        "colab_type": "code",
        "colab": {}
      },
      "cell_type": "code",
      "source": [
        "import string\n",
        "from collections import Counter\n",
        "from pprint import pprint\n",
        "import gzip\n",
        "import matplotlib.pyplot as plt \n",
        "import numpy as np\n",
        "from numpy.linalg import svd\n",
        "from numpy import diag\n",
        "\n",
        "%matplotlib inline"
      ],
      "execution_count": 0,
      "outputs": []
    },
    {
      "metadata": {
        "id": "Xj7OQqeuQV3e",
        "colab_type": "code",
        "colab": {
          "base_uri": "https://localhost:8080/",
          "height": 34
        },
        "outputId": "a3b7d546-ce60-45ac-bbe6-1d8efacaf10f"
      },
      "cell_type": "code",
      "source": [
        "from google.colab import drive\n",
        "drive.mount('/content/gdrive')"
      ],
      "execution_count": 3,
      "outputs": [
        {
          "output_type": "stream",
          "text": [
            "Drive already mounted at /content/gdrive; to attempt to forcibly remount, call drive.mount(\"/content/gdrive\", force_remount=True).\n"
          ],
          "name": "stdout"
        }
      ]
    },
    {
      "metadata": {
        "id": "KBJT5Ti0QWfl",
        "colab_type": "code",
        "colab": {}
      },
      "cell_type": "code",
      "source": [
        "\n",
        "stopwords = set([word.lower().strip() for word in open(\"/content/gdrive/My Drive/data/nltk_stopwords.txt\", \"rt\").readlines()])"
      ],
      "execution_count": 0,
      "outputs": []
    },
    {
      "metadata": {
        "id": "g_Sp7w-rQ7FG",
        "colab_type": "code",
        "colab": {}
      },
      "cell_type": "code",
      "source": [
        "def extract_words(text, stopwords):\n",
        "    temp = text.split() # Split the text on whitespace\n",
        "    text_words = []\n",
        "\n",
        "    punctuation = set(string.punctuation)\n",
        "    \n",
        "    #Keep #tags and @mentions\n",
        "    punctuation.remove(\"#\")\n",
        "    punctuation.remove(\"@\")\n",
        "    \n",
        "    for word in temp:\n",
        "        # Remove any punctuation characters present in the beginning of the word\n",
        "        while len(word) > 0 and word[0] in punctuation:\n",
        "            word = word[1:]\n",
        "\n",
        "        # Remove any punctuation characters present in the end of the word\n",
        "        while len(word) > 0 and word[-1] in punctuation:\n",
        "            word = word[:-1]\n",
        "\n",
        "        # Simple rule to eliminate (most) URLs\n",
        "        if len(word) > 0 and \"/\" not in word:\n",
        "            # If it's not a stopword\n",
        "            if word.lower() not in stopwords:\n",
        "                # Append this word into our list of words.\n",
        "                text_words.append(word.lower())\n",
        "        \n",
        "    return text_words"
      ],
      "execution_count": 0,
      "outputs": []
    },
    {
      "metadata": {
        "id": "RRvb2nm0RBQ1",
        "colab_type": "code",
        "colab": {}
      },
      "cell_type": "code",
      "source": [
        "tweets = []\n",
        "line_count = 0\n",
        "\n",
        "for line in open(\"/content/gdrive/My Drive/data/Apple-Twitter-Sentiment-DFE.csv\", \"rt\"):\n",
        "    fields = line.strip().split(',')\n",
        "    \n",
        "    line_count += 1\n",
        "    \n",
        "    # Skip the first line of the file which contains the header\n",
        "    if line_count == 1:\n",
        "        continue\n",
        "    \n",
        "    text = \",\".join(fields[11:])\n",
        "    \n",
        "    if len(text) == 0:\n",
        "        continue\n",
        "    \n",
        "    words = extract_words(text, stopwords)\n",
        "    \n",
        "    if len(words) > 0:\n",
        "        tweets.append(words)\n",
        "        \n",
        "    if len(tweets) == 200:\n",
        "        break"
      ],
      "execution_count": 0,
      "outputs": []
    },
    {
      "metadata": {
        "id": "IbjH3pWXR-Bt",
        "colab_type": "code",
        "colab": {}
      },
      "cell_type": "code",
      "source": [
        "def inv_doc_freq(corpus_words):\n",
        "    number_docs = len(corpus_words)\n",
        "    \n",
        "    document_count = {}\n",
        "\n",
        "    for document in corpus_words:\n",
        "        word_set = set(document)\n",
        "\n",
        "        for word in word_set:\n",
        "            document_count[word] = document_count.get(word, 0) + 1\n",
        "    \n",
        "    IDF = {}\n",
        "    \n",
        "    for word in document_count:\n",
        "        IDF[word] = np.log(number_docs/document_count[word])\n",
        "        \n",
        "    \n",
        "    return IDF\n",
        "\n",
        "def tf_idf(corpus_words):\n",
        "    IDF = inv_doc_freq(corpus_words)\n",
        "    \n",
        "    TFIDF = []\n",
        "    \n",
        "    for document in corpus_words:\n",
        "        TFIDF.append(Counter(document))\n",
        "    \n",
        "    for document in TFIDF:\n",
        "        for word in document:\n",
        "            document[word] = document[word]*IDF[word]\n",
        "            \n",
        "    return TFIDF"
      ],
      "execution_count": 0,
      "outputs": []
    },
    {
      "metadata": {
        "id": "Yr2Uf9qASBjF",
        "colab_type": "code",
        "colab": {}
      },
      "cell_type": "code",
      "source": [
        "TFIDF = tf_idf(tweets)"
      ],
      "execution_count": 0,
      "outputs": []
    },
    {
      "metadata": {
        "id": "lZbwzqvaSDyd",
        "colab_type": "code",
        "colab": {}
      },
      "cell_type": "code",
      "source": [
        "def build_vocabulary(TFIDF):\n",
        "    words = set()\n",
        "    \n",
        "    for document in TFIDF:\n",
        "        words |= document.keys()\n",
        "    \n",
        "    word_list = list(words)\n",
        "    word_dict = dict(zip(word_list, range(len(word_list))))\n",
        "    \n",
        "    return word_dict, word_list"
      ],
      "execution_count": 0,
      "outputs": []
    },
    {
      "metadata": {
        "id": "AogCvkxrSGZg",
        "colab_type": "code",
        "colab": {}
      },
      "cell_type": "code",
      "source": [
        "word_dict, word_list = build_vocabulary(TFIDF)"
      ],
      "execution_count": 0,
      "outputs": []
    },
    {
      "metadata": {
        "id": "bLUVtFUPSIeu",
        "colab_type": "code",
        "colab": {
          "base_uri": "https://localhost:8080/",
          "height": 34
        },
        "outputId": "d996ad3d-54c7-496c-e2cf-110cda054a6a"
      },
      "cell_type": "code",
      "source": [
        "\n",
        "vocabulary_size = len(word_dict)\n",
        "print(\"We have\", vocabulary_size, \"words in our vocabulary\")"
      ],
      "execution_count": 11,
      "outputs": [
        {
          "output_type": "stream",
          "text": [
            "We have 927 words in our vocabulary\n"
          ],
          "name": "stdout"
        }
      ]
    },
    {
      "metadata": {
        "id": "jzzW_tOjSKgf",
        "colab_type": "code",
        "colab": {}
      },
      "cell_type": "code",
      "source": [
        "def term_document_matrix(TFIDF, word_list, word_dict):\n",
        "    vocabulary_size = len(word_dict)\n",
        "    number_documents = len(TFIDF)\n",
        "    \n",
        "    TDM = np.zeros((vocabulary_size, number_documents))\n",
        "    \n",
        "    for doc in range(number_documents):\n",
        "        document = TFIDF[doc]\n",
        "        \n",
        "        for word in document.keys():\n",
        "            pos = word_dict[word]\n",
        "            \n",
        "            TDM[pos, doc] = document[word]\n",
        "            \n",
        "    return TDM"
      ],
      "execution_count": 0,
      "outputs": []
    },
    {
      "metadata": {
        "id": "EkB6pVNTSM92",
        "colab_type": "code",
        "colab": {
          "base_uri": "https://localhost:8080/",
          "height": 70
        },
        "outputId": "c78eaa71-f014-4c86-c11b-88134787ddfa"
      },
      "cell_type": "code",
      "source": [
        "TDM = term_document_matrix(TFIDF, word_list, word_dict)\n",
        "print(\"Our dataset has:\\n%u unique words\\n%u documents\"%(TDM.shape))"
      ],
      "execution_count": 13,
      "outputs": [
        {
          "output_type": "stream",
          "text": [
            "Our dataset has:\n",
            "927 unique words\n",
            "200 documents\n"
          ],
          "name": "stdout"
        }
      ]
    },
    {
      "metadata": {
        "id": "cYtshe3xSPjn",
        "colab_type": "code",
        "colab": {}
      },
      "cell_type": "code",
      "source": [
        "new_tweet = ['macbook', 'mini', 'rocket']"
      ],
      "execution_count": 0,
      "outputs": []
    },
    {
      "metadata": {
        "id": "oFlD0DCcSSIG",
        "colab_type": "code",
        "colab": {}
      },
      "cell_type": "code",
      "source": [
        "def find_related_docs(tweet, TDM):\n",
        "    new_vector = np.zeros(TDM.shape[1])\n",
        "    \n",
        "    for word in tweet:\n",
        "        pos = word_dict[word]\n",
        "        new_vector += TDM[pos, :]\n",
        "        \n",
        "    # Now the entries of new_vector tell us which documents are activated by this one.\n",
        "    # Let's extract the list of documents sorted by activation\n",
        "    doc_list = sorted(zip(range(TDM.shape[1]), new_vector), key=lambda x:x[1], reverse=True)\n",
        "    \n",
        "    return doc_list"
      ],
      "execution_count": 0,
      "outputs": []
    },
    {
      "metadata": {
        "id": "5U11OeKTSULN",
        "colab_type": "code",
        "colab": {}
      },
      "cell_type": "code",
      "source": [
        "related = find_related_docs(new_tweet, TDM)"
      ],
      "execution_count": 0,
      "outputs": []
    },
    {
      "metadata": {
        "id": "4wM3zWgASWDd",
        "colab_type": "code",
        "colab": {
          "base_uri": "https://localhost:8080/",
          "height": 105
        },
        "outputId": "dae59e5e-274a-4326-c1d3-2c300957cb19"
      },
      "cell_type": "code",
      "source": [
        "\n",
        "for tweet, score in related[:5]:\n",
        "    print(tweet, \" \".join(tweets[tweet]))"
      ],
      "execution_count": 17,
      "outputs": [
        {
          "output_type": "stream",
          "text": [
            "17 jh hines staff newly issued @apple #connected macbook ipad mini #txed\n",
            "34 rt @tra_hall jh hines staff newly issued @apple #connected macbook ipad mini #txed #txed\n",
            "2 #aapl:5 rocket stocks buy december gains apple\n",
            "166 ipad mini unboxing via @youtube @apple #ipadmini #ipad #macbook #macbookpro #startup #hipster #unboxing\n",
            "167 ipad mini first time startup via @youtube @apple #ipadmini #ipad #macbook #macbookpro #startup #hipster #unbox\n"
          ],
          "name": "stdout"
        }
      ]
    },
    {
      "metadata": {
        "id": "jf4H312ESYAM",
        "colab_type": "code",
        "colab": {}
      },
      "cell_type": "code",
      "source": [
        "\n",
        "def similarity(vec1, vec2):\n",
        "    sim = np.dot(vec1, vec2)\n",
        "    norm1 = np.sqrt(np.dot(vec1, vec1))\n",
        "    norm2 = np.sqrt(np.dot(vec2, vec2))\n",
        "    \n",
        "    return sim/(norm1*norm2)"
      ],
      "execution_count": 0,
      "outputs": []
    },
    {
      "metadata": {
        "id": "rKe1vL1fSatM",
        "colab_type": "code",
        "colab": {}
      },
      "cell_type": "code",
      "source": [
        "def find_similar_words(tweet, TDM):\n",
        "    new_vector = np.zeros(TDM.shape[1])\n",
        "    \n",
        "    for word in tweet:\n",
        "        pos = word_dict[word]\n",
        "        new_vector += TDM[pos, :]\n",
        "    \n",
        "    sim = [similarity(new_vector, TDM[i, :]) for i in range(TDM.shape[0])]\n",
        "    \n",
        "    sim_words = sorted(zip(range(TDM.shape[0]), sim), key=lambda x:x[1], reverse=True)\n",
        "    \n",
        "    return sim_words"
      ],
      "execution_count": 0,
      "outputs": []
    },
    {
      "metadata": {
        "id": "VBpMf2EMSdnJ",
        "colab_type": "code",
        "colab": {}
      },
      "cell_type": "code",
      "source": [
        "similar = find_similar_words(new_tweet, TDM)"
      ],
      "execution_count": 0,
      "outputs": []
    },
    {
      "metadata": {
        "id": "m1JLSnPZSeqX",
        "colab_type": "code",
        "colab": {
          "base_uri": "https://localhost:8080/",
          "height": 105
        },
        "outputId": "ac4c5aeb-4347-4540-9ab3-a2cb95b4c948"
      },
      "cell_type": "code",
      "source": [
        "for word, score in similar[:5]:\n",
        "    print(word_list[word], score)"
      ],
      "execution_count": 21,
      "outputs": [
        {
          "output_type": "stream",
          "text": [
            "macbook 0.7640071602554539\n",
            "mini 0.7398422630773179\n",
            "ipad 0.6849608378181927\n",
            "#macbook 0.66219576837537\n",
            "#startup 0.6273056189756162\n"
          ],
          "name": "stdout"
        }
      ]
    },
    {
      "metadata": {
        "id": "7mTCZWQ0Sipk",
        "colab_type": "code",
        "colab": {}
      },
      "cell_type": "code",
      "source": [
        "\n",
        "u, sigma, vt = svd(TDM)"
      ],
      "execution_count": 0,
      "outputs": []
    },
    {
      "metadata": {
        "id": "7rO3oOL6Sjrb",
        "colab_type": "code",
        "colab": {
          "base_uri": "https://localhost:8080/",
          "height": 34
        },
        "outputId": "b9c1d3df-22b4-4605-d287-752a0bf36604"
      },
      "cell_type": "code",
      "source": [
        "m, n = TDM.shape\n",
        "print(u.shape, sigma.shape, vt.shape)"
      ],
      "execution_count": 23,
      "outputs": [
        {
          "output_type": "stream",
          "text": [
            "(927, 927) (200,) (200, 200)\n"
          ],
          "name": "stdout"
        }
      ]
    },
    {
      "metadata": {
        "id": "XbUAo0h6SlxX",
        "colab_type": "code",
        "colab": {}
      },
      "cell_type": "code",
      "source": [
        "k = 10\n",
        "\n",
        "# Convert the vector of singular values into a diagonal matrix\n",
        "sigma_k = sigma[:k]\n",
        "Sk = diag(sigma_k)\n",
        "\n",
        "# Drop the extraneous dimensions in the other two matrices.\n",
        "uk = u[:,:k]\n",
        "vtk = vt[:k, :]"
      ],
      "execution_count": 0,
      "outputs": []
    },
    {
      "metadata": {
        "id": "VO42I-DJSoLu",
        "colab_type": "code",
        "colab": {
          "base_uri": "https://localhost:8080/",
          "height": 34
        },
        "outputId": "92a20dd8-a0d3-4494-ecf6-32bc70bb65b5"
      },
      "cell_type": "code",
      "source": [
        "print(uk.shape, Sk.shape, vtk.shape)"
      ],
      "execution_count": 25,
      "outputs": [
        {
          "output_type": "stream",
          "text": [
            "(927, 10) (10, 10) (10, 200)\n"
          ],
          "name": "stdout"
        }
      ]
    },
    {
      "metadata": {
        "id": "vMIduVXySqIb",
        "colab_type": "code",
        "colab": {
          "base_uri": "https://localhost:8080/",
          "height": 286
        },
        "outputId": "7eb3f46d-9136-4234-c370-4d032ea3b8d8"
      },
      "cell_type": "code",
      "source": [
        "\n",
        "plt.plot(sigma)"
      ],
      "execution_count": 26,
      "outputs": [
        {
          "output_type": "execute_result",
          "data": {
            "text/plain": [
              "[<matplotlib.lines.Line2D at 0x7f15a0f255f8>]"
            ]
          },
          "metadata": {
            "tags": []
          },
          "execution_count": 26
        },
        {
          "output_type": "display_data",
          "data": {
            "image/png": "[encoded data removed]",
            "text/plain": [
              "<Figure size 432x288 with 1 Axes>"
            ]
          },
          "metadata": {
            "tags": []
          }
        }
      ]
    },
    {
      "metadata": {
        "id": "iCPecFuMSr1g",
        "colab_type": "code",
        "colab": {}
      },
      "cell_type": "code",
      "source": [
        "# Sort the list of words by the weight they have in a specific topic\n",
        "def top_words(vector, word_list):\n",
        "    doc_list = sorted(zip(word_list, vector), key=lambda x:x[1], reverse=True)\n",
        "    \n",
        "    return doc_list"
      ],
      "execution_count": 0,
      "outputs": []
    },
    {
      "metadata": {
        "id": "9LjcnavqSuCX",
        "colab_type": "code",
        "colab": {
          "base_uri": "https://localhost:8080/",
          "height": 194
        },
        "outputId": "50772136-d135-4244-ab71-df5ab87a083a"
      },
      "cell_type": "code",
      "source": [
        "\n",
        "topic_words = top_words(uk[:,3], word_list)\n",
        "for word, weight in topic_words[:10]:\n",
        "    print(word, weight)"
      ],
      "execution_count": 28,
      "outputs": [
        {
          "output_type": "stream",
          "text": [
            "#4 0.16912068258106042\n",
            "sold 0.16912068258106036\n",
            "#nasdaq100 0.16912068258106028\n",
            "10.49 0.16912068258106025\n",
            "#exit 0.16912068258106025\n",
            "#forex 0.16912068258106025\n",
            "#gain 0.16912068258106025\n",
            "#recent 0.16912068258106025\n",
            "20 0.16912068258106025\n",
            "#market 0.16842637000189195\n"
          ],
          "name": "stdout"
        }
      ]
    },
    {
      "metadata": {
        "id": "wJCQH71CSvxp",
        "colab_type": "code",
        "colab": {}
      },
      "cell_type": "code",
      "source": [
        "document = ['ipad', 'mini', 'price']\n",
        "\n",
        "doc_vector = np.zeros(vocabulary_size)\n",
        "for word in document:\n",
        "    doc_vector[word_dict[word]] += 1"
      ],
      "execution_count": 0,
      "outputs": []
    },
    {
      "metadata": {
        "id": "7sLN7ov1SyOZ",
        "colab_type": "code",
        "colab": {
          "base_uri": "https://localhost:8080/",
          "height": 70
        },
        "outputId": "e80a0d81-0835-4c7c-d9c0-290c8d160088"
      },
      "cell_type": "code",
      "source": [
        "doc_singular = 1/sigma_k*np.dot(uk.T, doc_vector)\n",
        "pprint(doc_singular)"
      ],
      "execution_count": 30,
      "outputs": [
        {
          "output_type": "stream",
          "text": [
            "array([ 1.62243400e-04, -1.44900491e-02,  1.09973213e-03, -4.30257980e-05,\n",
            "       -9.69106965e-04,  4.54646796e-03, -7.58613138e-04,  2.40772326e-03,\n",
            "       -3.82599561e-03,  1.95924079e-03])\n"
          ],
          "name": "stdout"
        }
      ]
    },
    {
      "metadata": {
        "id": "71iFlEMoS0SH",
        "colab_type": "code",
        "colab": {
          "base_uri": "https://localhost:8080/",
          "height": 194
        },
        "outputId": "13e31ad5-caeb-48a2-e3a5-1eac2469b7a0"
      },
      "cell_type": "code",
      "source": [
        "topic = np.argmax(doc_singular)\n",
        "\n",
        "topic_words = top_words(uk[:,topic], word_list)\n",
        "for word, weight in topic_words[:10]:\n",
        "    print(word, weight)"
      ],
      "execution_count": 31,
      "outputs": [
        {
          "output_type": "stream",
          "text": [
            "stock 0.2452591443094601\n",
            "thanks 0.21154642574531066\n",
            "today 0.16895384229736377\n",
            "#aapl 0.1659547611444024\n",
            "trading 0.1400459620968507\n",
            "apple's 0.12260529463519178\n",
            "behind 0.118667013894756\n",
            "lot 0.11665431614358651\n",
            "one 0.11230851763068464\n",
            "best 0.11228276075549404\n"
          ],
          "name": "stdout"
        }
      ]
    },
    {
      "metadata": {
        "id": "U1OEffB2S2Uu",
        "colab_type": "code",
        "colab": {}
      },
      "cell_type": "code",
      "source": [
        "def NMF(V, k):\n",
        "    n, m = V.shape\n",
        "\n",
        "    W = np.random.rand(n, k)\n",
        "    H = np.random.rand(k, m)\n",
        "\n",
        "    error = 1\n",
        "    err = 1\n",
        "\n",
        "    while err > 1e-4:\n",
        "        old_error = error\n",
        "\n",
        "        hn = np.dot(W.T, V)\n",
        "        hd = np.dot(W.T, np.dot(W, H))\n",
        "\n",
        "        H = H*hn/hd\n",
        "\n",
        "        wn = np.dot(V, H.T)\n",
        "        wd = np.dot(W, np.dot(H, H.T))\n",
        "\n",
        "        W = W*wn/wd\n",
        "\n",
        "        error = np.sum(np.power(V-np.dot(W, H), 2.0))\n",
        "        err = np.abs(old_error-error)\n",
        "\n",
        "    return W, H, error"
      ],
      "execution_count": 0,
      "outputs": []
    },
    {
      "metadata": {
        "id": "sp53sZG2S5HS",
        "colab_type": "code",
        "colab": {
          "base_uri": "https://localhost:8080/",
          "height": 638
        },
        "outputId": "f41ae3e2-9b3e-493b-fa76-4f4e4a8ec6ba"
      },
      "cell_type": "code",
      "source": [
        "error = []\n",
        "\n",
        "for comps in range(2, 35+1):\n",
        "    W, H, err = NMF(TDM, comps)\n",
        "    print(comps, err)\n",
        "    error.append(err)"
      ],
      "execution_count": 33,
      "outputs": [
        {
          "output_type": "stream",
          "text": [
            "2 32018.59999809094\n",
            "3 31374.12632215434\n",
            "4 30779.3905189132\n",
            "5 30297.040148221713\n",
            "6 29796.433113717656\n",
            "7 29343.352676474162\n",
            "8 28965.301384630962\n",
            "9 28484.795155413813\n",
            "10 28069.534636533146\n",
            "11 27614.945611471994\n",
            "12 27180.346864563136\n"
          ],
          "name": "stdout"
        },
        {
          "output_type": "stream",
          "text": [
            "/usr/local/lib/python3.6/dist-packages/ipykernel_launcher.py:21: RuntimeWarning: invalid value encountered in true_divide\n"
          ],
          "name": "stderr"
        },
        {
          "output_type": "stream",
          "text": [
            "13 nan\n",
            "14 26422.674240560806\n",
            "15 26003.417219489464\n",
            "16 25653.315625328054\n",
            "17 25245.278821195905\n",
            "18 24902.995512766003\n",
            "19 24591.205696342615\n",
            "20 24211.021907875063\n",
            "21 23796.422487521562\n",
            "22 23523.832511413246\n",
            "23 23068.61353346526\n",
            "24 nan\n",
            "25 22387.065369792905\n",
            "26 22069.108930678864\n",
            "27 21752.872953549064\n",
            "28 21426.87844110954\n",
            "29 21183.148918806015\n",
            "30 20736.460965193863\n",
            "31 20557.405581304\n",
            "32 20180.560616473525\n",
            "33 nan\n",
            "34 19489.25983167769\n",
            "35 19274.463975845574\n"
          ],
          "name": "stdout"
        }
      ]
    },
    {
      "metadata": {
        "id": "SljS4weES7WP",
        "colab_type": "code",
        "colab": {
          "base_uri": "https://localhost:8080/",
          "height": 312
        },
        "outputId": "bcb244ef-3371-4b46-f057-66773c10113d"
      },
      "cell_type": "code",
      "source": [
        "plt.plot(range(2, 35+1), error)\n",
        "plt.xlabel('number of components')\n",
        "plt.ylabel('reconstruction error')\n",
        "plt.title('Non-Negative Matrix Factorization')"
      ],
      "execution_count": 34,
      "outputs": [
        {
          "output_type": "execute_result",
          "data": {
            "text/plain": [
              "Text(0.5, 1.0, 'Non-Negative Matrix Factorization')"
            ]
          },
          "metadata": {
            "tags": []
          },
          "execution_count": 34
        },
        {
          "output_type": "display_data",
          "data": {
            "image/png": "[encoded data removed]",
            "text/plain": [
              "<Figure size 432x288 with 1 Axes>"
            ]
          },
          "metadata": {
            "tags": []
          }
        }
      ]
    },
    {
      "metadata": {
        "id": "bU-wTJzUbfr-",
        "colab_type": "code",
        "colab": {}
      },
      "cell_type": "code",
      "source": [
        "W, H, err = NMF(TDM, 30)"
      ],
      "execution_count": 0,
      "outputs": []
    },
    {
      "metadata": {
        "id": "SW9swH8UbiR2",
        "colab_type": "code",
        "colab": {
          "base_uri": "https://localhost:8080/",
          "height": 194
        },
        "outputId": "fa10f060-6ce0-472d-928a-35fb2ead2c0b"
      },
      "cell_type": "code",
      "source": [
        "topic_words = top_words(W[:,0], word_list)\n",
        "for word, weight in topic_words[:10]:\n",
        "    print(word, weight)"
      ],
      "execution_count": 36,
      "outputs": [
        {
          "output_type": "stream",
          "text": [
            "events 24.12343364162138\n",
            "outlook 24.12343364162138\n",
            "#tsla 24.12343364162138\n",
            "amid 24.12343364162138\n",
            "heavy 24.12343364162138\n",
            "economic 24.12343364162138\n",
            "options 24.12343364162138\n",
            "#markets 24.12343364162138\n",
            "#premarket 24.12343364162138\n",
            "week 24.12343364162138\n"
          ],
          "name": "stdout"
        }
      ]
    },
    {
      "metadata": {
        "id": "S1pv0XH-bsJX",
        "colab_type": "code",
        "colab": {
          "base_uri": "https://localhost:8080/",
          "height": 194
        },
        "outputId": "df76e8d5-d9e5-4833-c412-60d28aaf0e86"
      },
      "cell_type": "code",
      "source": [
        "topic_words = top_words(W[:,10], word_list)\n",
        "for word, weight in topic_words[:10]:\n",
        "    print(word, weight)"
      ],
      "execution_count": 37,
      "outputs": [
        {
          "output_type": "stream",
          "text": [
            "#startup 33.31874689860513\n",
            "#hipster 33.31874689860513\n",
            "@youtube 33.31874689860513\n",
            "#macbook 32.70139061113297\n",
            "#macbookpro 32.53721503675662\n",
            "via 30.89866059285561\n",
            "#ipadmini 21.543578004430053\n",
            "startup 21.121325552423386\n",
            "first 20.254212284842524\n",
            "#ipad 19.766118479459212\n"
          ],
          "name": "stdout"
        }
      ]
    }
  ]
}