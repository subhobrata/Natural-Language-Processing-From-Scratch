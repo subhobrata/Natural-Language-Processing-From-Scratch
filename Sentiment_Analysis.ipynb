{
  "nbformat": 4,
  "nbformat_minor": 0,
  "metadata": {
    "colab": {
      "name": "Sentiment Analysis.ipynb",
      "version": "0.3.2",
      "provenance": [],
      "include_colab_link": true
    },
    "kernelspec": {
      "name": "python3",
      "display_name": "Python 3"
    }
  },
  "cells": [
    {
      "cell_type": "markdown",
      "metadata": {
        "id": "view-in-github",
        "colab_type": "text"
      },
      "source": [
        "<a href=\"https://colab.research.google.com/github/subhobrata/Natural-Language-Processing-From-Scratch/blob/master/Sentiment_Analysis.ipynb\" target=\"_parent\"><img src=\"https://colab.research.google.com/assets/colab-badge.svg\" alt=\"Open In Colab\"/></a>"
      ]
    },
    {
      "cell_type": "code",
      "metadata": {
        "id": "cvFT2_O3xva2",
        "colab_type": "code",
        "colab": {}
      },
      "source": [
        "import string\n",
        "import gzip\n",
        "from collections import Counter\n",
        "import numpy as np\n",
        "import pandas as pd\n",
        "import matplotlib.pyplot as plt\n",
        "import matplotlib.cm as cm\n",
        "\n",
        "%matplotlib inline"
      ],
      "execution_count": 0,
      "outputs": []
    },
    {
      "cell_type": "code",
      "metadata": {
        "id": "wq5APLSrx4P5",
        "colab_type": "code",
        "colab": {
          "base_uri": "https://localhost:8080/",
          "height": 34
        },
        "outputId": "f85cd20d-b864-4db4-9f4e-79bb0d7289ea"
      },
      "source": [
        "from google.colab import drive\n",
        "drive.mount('/content/gdrive')"
      ],
      "execution_count": 2,
      "outputs": [
        {
          "output_type": "stream",
          "text": [
            "Drive already mounted at /content/gdrive; to attempt to forcibly remount, call drive.mount(\"/content/gdrive\", force_remount=True).\n"
          ],
          "name": "stdout"
        }
      ]
    },
    {
      "cell_type": "code",
      "metadata": {
        "id": "k0Dz4k2yx6nZ",
        "colab_type": "code",
        "colab": {}
      },
      "source": [
        "pos = np.loadtxt('/content/gdrive/My Drive/data/positive-words.txt', dtype='str', comments=';')\n",
        "neg = np.loadtxt('/content/gdrive/My Drive/data/negative-words.txt', dtype='str', comments=';')"
      ],
      "execution_count": 0,
      "outputs": []
    },
    {
      "cell_type": "code",
      "metadata": {
        "id": "4VnGPGgXyECQ",
        "colab_type": "code",
        "colab": {}
      },
      "source": [
        "valence = {}\n",
        "\n",
        "for word in pos:\n",
        "    valence[word.lower()] = 1\n",
        "    \n",
        "for word in neg:\n",
        "    valence[word.lower()] = -1"
      ],
      "execution_count": 0,
      "outputs": []
    },
    {
      "cell_type": "code",
      "metadata": {
        "id": "Ez6OyZJnyNfJ",
        "colab_type": "code",
        "colab": {}
      },
      "source": [
        "def extract_words(text):\n",
        "    temp = text.split() # Split the text on whitespace\n",
        "    text_words = []\n",
        "\n",
        "    for word in temp:\n",
        "        # Remove any punctuation characters present in the beginning of the word\n",
        "        while word[0] in string.punctuation:\n",
        "            word = word[1:]\n",
        "\n",
        "        # Remove any punctuation characters present in the end of the word\n",
        "        while word[-1] in string.punctuation:\n",
        "            word = word[:-1]\n",
        "\n",
        "        # Append this word into our list of words.\n",
        "        text_words.append(word.lower())\n",
        "        \n",
        "    return text_words"
      ],
      "execution_count": 0,
      "outputs": []
    },
    {
      "cell_type": "code",
      "metadata": {
        "id": "GK7eS7VMyQty",
        "colab_type": "code",
        "colab": {}
      },
      "source": [
        "def sentiment(text, valence):\n",
        "    words = extract_words(text.lower())\n",
        "    \n",
        "    word_count = 0\n",
        "    score = 0\n",
        "    \n",
        "    for word in words:\n",
        "        if word in valence:\n",
        "            score += valence[word]\n",
        "            word_count += 1\n",
        "            \n",
        "    return score/word_count"
      ],
      "execution_count": 0,
      "outputs": []
    },
    {
      "cell_type": "code",
      "metadata": {
        "id": "FmXUS6qiyVEg",
        "colab_type": "code",
        "colab": {
          "base_uri": "https://localhost:8080/",
          "height": 68
        },
        "outputId": "a1986991-8125-43f1-d424-9552c404a583"
      },
      "source": [
        "texts = [\"I'm very happy\",\n",
        "         \"The product is pretty annoying, and I hate it\",\n",
        "         \"I'm sad\",\n",
        "        ]\n",
        "\n",
        "for text in texts:\n",
        "    print(sentiment(text, valence))"
      ],
      "execution_count": 7,
      "outputs": [
        {
          "output_type": "stream",
          "text": [
            "1.0\n",
            "-0.3333333333333333\n",
            "-1.0\n"
          ],
          "name": "stdout"
        }
      ]
    },
    {
      "cell_type": "code",
      "metadata": {
        "id": "j6CcdgDKyV_i",
        "colab_type": "code",
        "colab": {
          "base_uri": "https://localhost:8080/",
          "height": 68
        },
        "outputId": "1569b455-4307-4d43-94a4-0e853f548ad5"
      },
      "source": [
        "words = extract_words(texts[1].lower())\n",
        "for word in words:\n",
        "    if word in valence:\n",
        "        print(word, valence[word])"
      ],
      "execution_count": 8,
      "outputs": [
        {
          "output_type": "stream",
          "text": [
            "pretty 1\n",
            "annoying -1\n",
            "hate -1\n"
          ],
          "name": "stdout"
        }
      ]
    },
    {
      "cell_type": "code",
      "metadata": {
        "id": "rIhGjwPqyYps",
        "colab_type": "code",
        "colab": {}
      },
      "source": [
        "modifiers = {\n",
        "    \"very\": 1.5,\n",
        "    \"much\": 1.3,\n",
        "    \"not\": -1,\n",
        "    \"pretty\": 1.5,\n",
        "    \"somewhat\": 1.2}"
      ],
      "execution_count": 0,
      "outputs": []
    },
    {
      "cell_type": "code",
      "metadata": {
        "id": "llqvvg7Iyb0x",
        "colab_type": "code",
        "colab": {}
      },
      "source": [
        "def sentiment_modified(text, valence, modifiers, verbose=False):\n",
        "    words = extract_words(text.lower())\n",
        "    \n",
        "    word_count = 0\n",
        "    score = 0\n",
        "    ngrams = [[]]\n",
        "    \n",
        "    # generate ngrams\n",
        "    for i in range(len(words)):\n",
        "        word = words[i]\n",
        "        \n",
        "        if word in modifiers:\n",
        "            ngrams[-1].append(word)\n",
        "            continue\n",
        "\n",
        "        if word in valence:\n",
        "            ngrams[-1].append(word)\n",
        "        else:\n",
        "            if len(ngrams[-1]) > 0:\n",
        "                ngrams.append([])\n",
        "\n",
        "    score = 0\n",
        "    \n",
        "    # Remove the trailing empty ngram if necessary\n",
        "    if len(ngrams[-1]) == 0:\n",
        "        ngrams = ngrams[:-1]\n",
        "\n",
        "    for ngram in ngrams:\n",
        "        value = 1\n",
        "\n",
        "        for word in ngram:\n",
        "            if word in modifiers:\n",
        "                value *= modifiers[word]\n",
        "            elif word in valence:\n",
        "                value *= valence[word]\n",
        "\n",
        "        if verbose:\n",
        "            print(ngram, value)\n",
        "\n",
        "        score += value\n",
        "\n",
        "    return score/len(ngrams)"
      ],
      "execution_count": 0,
      "outputs": []
    },
    {
      "cell_type": "code",
      "metadata": {
        "id": "wG2Hby8KyehZ",
        "colab_type": "code",
        "colab": {
          "base_uri": "https://localhost:8080/",
          "height": 68
        },
        "outputId": "c9dd4f03-ad32-4979-c12a-3185f1c83486"
      },
      "source": [
        "sentiment_modified(texts[1], valence, modifiers, True)"
      ],
      "execution_count": 11,
      "outputs": [
        {
          "output_type": "stream",
          "text": [
            "['pretty', 'annoying'] -1.5\n",
            "['hate'] -1\n"
          ],
          "name": "stdout"
        },
        {
          "output_type": "execute_result",
          "data": {
            "text/plain": [
              "-1.25"
            ]
          },
          "metadata": {
            "tags": []
          },
          "execution_count": 11
        }
      ]
    },
    {
      "cell_type": "code",
      "metadata": {
        "id": "PmX4s8yfygtJ",
        "colab_type": "code",
        "colab": {
          "base_uri": "https://localhost:8080/",
          "height": 51
        },
        "outputId": "06388176-5d8c-4126-8f17-acfdacdee2ee"
      },
      "source": [
        "sentiment_modified(\"It was not very good\", valence, modifiers, True)"
      ],
      "execution_count": 12,
      "outputs": [
        {
          "output_type": "stream",
          "text": [
            "['not', 'very', 'good'] -1.5\n"
          ],
          "name": "stdout"
        },
        {
          "output_type": "execute_result",
          "data": {
            "text/plain": [
              "-1.5"
            ]
          },
          "metadata": {
            "tags": []
          },
          "execution_count": 12
        }
      ]
    },
    {
      "cell_type": "code",
      "metadata": {
        "id": "cB2brj_lylCb",
        "colab_type": "code",
        "colab": {
          "base_uri": "https://localhost:8080/",
          "height": 51
        },
        "outputId": "138e70b8-2d25-458f-f1d7-a4c1ba350c56"
      },
      "source": [
        "sentiment_modified(\"It was not not very very good\", valence, modifiers, True)"
      ],
      "execution_count": 13,
      "outputs": [
        {
          "output_type": "stream",
          "text": [
            "['not', 'not', 'very', 'very', 'good'] 2.25\n"
          ],
          "name": "stdout"
        },
        {
          "output_type": "execute_result",
          "data": {
            "text/plain": [
              "2.25"
            ]
          },
          "metadata": {
            "tags": []
          },
          "execution_count": 13
        }
      ]
    },
    {
      "cell_type": "code",
      "metadata": {
        "id": "VnApjYmBynCM",
        "colab_type": "code",
        "colab": {}
      },
      "source": [
        "vader = pd.read_csv(\"/content/gdrive/My Drive/data/vader_lexicon.txt\", sep='\\t', header=None)"
      ],
      "execution_count": 0,
      "outputs": []
    },
    {
      "cell_type": "code",
      "metadata": {
        "id": "3e3F-suNyubr",
        "colab_type": "code",
        "colab": {
          "base_uri": "https://localhost:8080/",
          "height": 204
        },
        "outputId": "7afb3e29-57a6-4d17-d2bb-165fb9df9573"
      },
      "source": [
        "vader.head()"
      ],
      "execution_count": 15,
      "outputs": [
        {
          "output_type": "execute_result",
          "data": {
            "text/html": [
              "<div>\n",
              "<style scoped>\n",
              "    .dataframe tbody tr th:only-of-type {\n",
              "        vertical-align: middle;\n",
              "    }\n",
              "\n",
              "    .dataframe tbody tr th {\n",
              "        vertical-align: top;\n",
              "    }\n",
              "\n",
              "    .dataframe thead th {\n",
              "        text-align: right;\n",
              "    }\n",
              "</style>\n",
              "<table border=\"1\" class=\"dataframe\">\n",
              "  <thead>\n",
              "    <tr style=\"text-align: right;\">\n",
              "      <th></th>\n",
              "      <th>0</th>\n",
              "      <th>1</th>\n",
              "      <th>2</th>\n",
              "      <th>3</th>\n",
              "    </tr>\n",
              "  </thead>\n",
              "  <tbody>\n",
              "    <tr>\n",
              "      <th>0</th>\n",
              "      <td>$:</td>\n",
              "      <td>-1.5</td>\n",
              "      <td>0.80623</td>\n",
              "      <td>[-1, -1, -1, -1, -3, -1, -3, -1, -2, -1]</td>\n",
              "    </tr>\n",
              "    <tr>\n",
              "      <th>1</th>\n",
              "      <td>%)</td>\n",
              "      <td>-0.4</td>\n",
              "      <td>1.01980</td>\n",
              "      <td>[-1, 0, -1, 0, 0, -2, -1, 2, -1, 0]</td>\n",
              "    </tr>\n",
              "    <tr>\n",
              "      <th>2</th>\n",
              "      <td>%-)</td>\n",
              "      <td>-1.5</td>\n",
              "      <td>1.43178</td>\n",
              "      <td>[-2, 0, -2, -2, -1, 2, -2, -3, -2, -3]</td>\n",
              "    </tr>\n",
              "    <tr>\n",
              "      <th>3</th>\n",
              "      <td>&amp;-:</td>\n",
              "      <td>-0.4</td>\n",
              "      <td>1.42829</td>\n",
              "      <td>[-3, -1, 0, 0, -1, -1, -1, 2, -1, 2]</td>\n",
              "    </tr>\n",
              "    <tr>\n",
              "      <th>4</th>\n",
              "      <td>&amp;:</td>\n",
              "      <td>-0.7</td>\n",
              "      <td>0.64031</td>\n",
              "      <td>[0, -1, -1, -1, 1, -1, -1, -1, -1, -1]</td>\n",
              "    </tr>\n",
              "  </tbody>\n",
              "</table>\n",
              "</div>"
            ],
            "text/plain": [
              "     0    1        2                                         3\n",
              "0   $: -1.5  0.80623  [-1, -1, -1, -1, -3, -1, -3, -1, -2, -1]\n",
              "1   %) -0.4  1.01980       [-1, 0, -1, 0, 0, -2, -1, 2, -1, 0]\n",
              "2  %-) -1.5  1.43178    [-2, 0, -2, -2, -1, 2, -2, -3, -2, -3]\n",
              "3  &-: -0.4  1.42829      [-3, -1, 0, 0, -1, -1, -1, 2, -1, 2]\n",
              "4   &: -0.7  0.64031    [0, -1, -1, -1, 1, -1, -1, -1, -1, -1]"
            ]
          },
          "metadata": {
            "tags": []
          },
          "execution_count": 15
        }
      ]
    },
    {
      "cell_type": "code",
      "metadata": {
        "id": "h7khWKLcyxhj",
        "colab_type": "code",
        "colab": {
          "base_uri": "https://localhost:8080/",
          "height": 34
        },
        "outputId": "79956bb4-3965-4b82-c39f-8417f4542536"
      },
      "source": [
        "scores = eval(vader.iloc[4446][3])\n",
        "print(scores)"
      ],
      "execution_count": 16,
      "outputs": [
        {
          "output_type": "stream",
          "text": [
            "[3, 3, 3, 3, 3, 3, 3, 4, 4, 3]\n"
          ],
          "name": "stdout"
        }
      ]
    },
    {
      "cell_type": "code",
      "metadata": {
        "id": "75Tk3JV0y0sh",
        "colab_type": "code",
        "colab": {
          "base_uri": "https://localhost:8080/",
          "height": 102
        },
        "outputId": "be2dc220-b532-43c9-8b7e-f6b38678d544"
      },
      "source": [
        "vader.iloc[4447]"
      ],
      "execution_count": 17,
      "outputs": [
        {
          "output_type": "execute_result",
          "data": {
            "text/plain": [
              "0                             loved\n",
              "1                               2.9\n",
              "2                               0.7\n",
              "3    [3, 3, 4, 2, 2, 4, 3, 2, 3, 3]\n",
              "Name: 4447, dtype: object"
            ]
          },
          "metadata": {
            "tags": []
          },
          "execution_count": 17
        }
      ]
    },
    {
      "cell_type": "code",
      "metadata": {
        "id": "fVLNw95py2cS",
        "colab_type": "code",
        "colab": {}
      },
      "source": [
        "valence_vader = dict(vader[[0,1]].values)"
      ],
      "execution_count": 0,
      "outputs": []
    },
    {
      "cell_type": "code",
      "metadata": {
        "id": "C2pi5mVCy4xd",
        "colab_type": "code",
        "colab": {
          "base_uri": "https://localhost:8080/",
          "height": 34
        },
        "outputId": "c31ed20f-282a-4706-9edc-bf73bbc993c8"
      },
      "source": [
        "valence_vader[':)']"
      ],
      "execution_count": 19,
      "outputs": [
        {
          "output_type": "execute_result",
          "data": {
            "text/plain": [
              "2.0"
            ]
          },
          "metadata": {
            "tags": []
          },
          "execution_count": 19
        }
      ]
    },
    {
      "cell_type": "code",
      "metadata": {
        "id": "ST5CtVqiy6Vk",
        "colab_type": "code",
        "colab": {
          "base_uri": "https://localhost:8080/",
          "height": 51
        },
        "outputId": "4765f959-ff59-4e5e-cabd-6db73612d763"
      },
      "source": [
        "sentiment_modified(\"It was not not very very good\", valence_vader, modifiers, True)"
      ],
      "execution_count": 20,
      "outputs": [
        {
          "output_type": "stream",
          "text": [
            "['not', 'not', 'very', 'very', 'good'] 4.2749999999999995\n"
          ],
          "name": "stdout"
        },
        {
          "output_type": "execute_result",
          "data": {
            "text/plain": [
              "4.2749999999999995"
            ]
          },
          "metadata": {
            "tags": []
          },
          "execution_count": 20
        }
      ]
    }
  ]
}